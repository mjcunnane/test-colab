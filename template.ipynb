{
  "nbformat": 4,
  "nbformat_minor": 0,
  "metadata": {
    "colab": {
      "provenance": [],
      "authorship_tag": "ABX9TyN7nlCKb9pYgOr89QB6aB4n",
      "include_colab_link": true
    },
    "kernelspec": {
      "name": "python3",
      "display_name": "Python 3"
    },
    "language_info": {
      "name": "python"
    }
  },
  "cells": [
    {
      "cell_type": "markdown",
      "metadata": {
        "id": "view-in-github",
        "colab_type": "text"
      },
      "source": [
        "<a href=\"https://colab.research.google.com/github/mjcunnane/test-colab/blob/main/template.ipynb\" target=\"_parent\"><img src=\"https://colab.research.google.com/assets/colab-badge.svg\" alt=\"Open In Colab\"/></a>"
      ]
    },
    {
      "cell_type": "code",
      "execution_count": 2,
      "metadata": {
        "id": "XVT47smloRhX",
        "colab": {
          "base_uri": "https://localhost:8080/"
        },
        "outputId": "59e40cf9-7ceb-40a0-cc17-2ccd963c2c14"
      },
      "outputs": [
        {
          "output_type": "stream",
          "name": "stdout",
          "text": [
            "hello world\n",
            "this is going to my github account\n",
            "Hello Colab\n"
          ]
        }
      ],
      "source": [
        "print(\"hello world\")\n",
        "print('this is going to my github account')\n",
        "print(\"Hello Colab\")"
      ]
    }
  ]
}